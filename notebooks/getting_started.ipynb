{
 "cells": [
  {
   "cell_type": "code",
   "execution_count": 1,
   "metadata": {},
   "outputs": [],
   "source": [
    "import logging\n",
    "import sys\n",
    "\n",
    "import pandas as pd\n",
    "\n",
    "import ultimate_notion as uno\n",
    "\n",
    "%load_ext autoreload\n",
    "%autoreload 2\n",
    "\n",
    "pd.set_option('display.max_rows', 120)\n",
    "pd.set_option('display.max_columns', 120)\n",
    "\n",
    "logging.basicConfig(level=logging.INFO, stream=sys.stdout)"
   ]
  },
  {
   "cell_type": "code",
   "execution_count": 2,
   "metadata": {},
   "outputs": [
    {
     "name": "stdout",
     "output_type": "stream",
     "text": [
      "INFO:ultimate_notion.session:Initializing Notion session...\n"
     ]
    }
   ],
   "source": [
    "notion = uno.Session.get_or_create()  # assuming NOTION_TOKEN is set in your environmen"
   ]
  },
  {
   "cell_type": "code",
   "execution_count": 13,
   "metadata": {},
   "outputs": [
    {
     "name": "stdout",
     "output_type": "stream",
     "text": [
      "INFO:ultimate_notion.session.client:POST https://api.notion.com/v1/search\n",
      "INFO:httpx:HTTP Request: POST https://api.notion.com/v1/search \"HTTP/1.1 200 OK\"\n",
      "INFO:ultimate_notion.obj_api.endpoints:Initializing database query :: {b0cb6b70-e740-496d-9c81-8a298fa2d5e1}\n",
      "INFO:ultimate_notion.session.client:POST https://api.notion.com/v1/databases/b0cb6b70-e740-496d-9c81-8a298fa2d5e1/query\n",
      "INFO:httpx:HTTP Request: POST https://api.notion.com/v1/databases/b0cb6b70-e740-496d-9c81-8a298fa2d5e1/query \"HTTP/1.1 200 OK\"\n"
     ]
    }
   ],
   "source": [
    "task_db = notion.search_db('Task DB').item()\n",
    "task_view = task_db.fetch_all()"
   ]
  },
  {
   "cell_type": "code",
   "execution_count": 14,
   "metadata": {},
   "outputs": [
    {
     "data": {
      "text/html": [
       "<table>\n",
       "<thead>\n",
       "<tr><th>Task                            </th><th>Urgency  </th><th>Due Date                 </th><th>Status     </th><th>Priority  </th></tr>\n",
       "</thead>\n",
       "<tbody>\n",
       "<tr><td>Clearing out the cellar         </td><td>🔥 -2w2d </td><td>2023-11-16 17:10:00+01:00</td><td>In Progress</td><td>✶ Low     </td></tr>\n",
       "<tr><td>Run first Marathon              </td><td>✅       </td><td>2023-11-24 17:10:00+01:00</td><td>Done       </td><td>✶ Low     </td></tr>\n",
       "<tr><td>Pay yearly utility bills        </td><td>🔥 -5d   </td><td>2023-11-27 17:10:00+01:00</td><td>Blocked    </td><td>✹ High    </td></tr>\n",
       "<tr><td>Call family                     </td><td>✅       </td><td>2023-12-01 17:10:00+01:00</td><td>Done       </td><td>✶ Low     </td></tr>\n",
       "<tr><td>Complete project report for work</td><td>🔹 Today </td><td>2023-12-02 17:10:00+01:00</td><td>In Progress</td><td>✷ Medium  </td></tr>\n",
       "<tr><td>Build tool with Ultimate Notion </td><td>🕐       </td><td>2023-12-03 17:10:00+01:00</td><td>In Progress</td><td>✶ Low     </td></tr>\n",
       "<tr><td>Clean the house                 </td><td>🕐 4d    </td><td>2023-12-07 17:10:00+01:00</td><td>In Progress</td><td>✶ Low     </td></tr>\n",
       "<tr><td>Read book about procastination  </td><td>🕐 2w1d  </td><td>2023-12-18 17:10:00+01:00</td><td>Backlog    </td><td>✷ Medium  </td></tr>\n",
       "<tr><td>Plan vacation                   </td><td>🕐 3w2d  </td><td>2023-12-26 17:10:00+01:00</td><td>Backlog    </td><td>✹ High    </td></tr>\n",
       "</tbody>\n",
       "</table>"
      ],
      "text/plain": [
       "<IPython.core.display.HTML object>"
      ]
     },
     "metadata": {},
     "output_type": "display_data"
    }
   ],
   "source": [
    "task_view.show()"
   ]
  },
  {
   "cell_type": "code",
   "execution_count": 16,
   "metadata": {},
   "outputs": [],
   "source": [
    "task_view.default_limit = 3"
   ]
  },
  {
   "cell_type": "code",
   "execution_count": 17,
   "metadata": {},
   "outputs": [
    {
     "data": {
      "text/html": [
       "<table>\n",
       "<thead>\n",
       "<tr><th>Task                    </th><th>Urgency  </th><th>Due Date                 </th><th>Status     </th><th>Priority  </th></tr>\n",
       "</thead>\n",
       "<tbody>\n",
       "<tr><td>Clearing out the cellar </td><td>🔥 -2w2d </td><td>2023-11-16 17:10:00+01:00</td><td>In Progress</td><td>✶ Low     </td></tr>\n",
       "<tr><td>Run first Marathon      </td><td>✅       </td><td>2023-11-24 17:10:00+01:00</td><td>Done       </td><td>✶ Low     </td></tr>\n",
       "<tr><td>Pay yearly utility bills</td><td>🔥 -5d   </td><td>2023-11-27 17:10:00+01:00</td><td>Blocked    </td><td>✹ High    </td></tr>\n",
       "</tbody>\n",
       "</table><div style=\"text-align: center;\">...</div>\n"
      ],
      "text/plain": [
       "<View: 'Task DB' at 0x127e6ef80>"
      ]
     },
     "execution_count": 17,
     "metadata": {},
     "output_type": "execute_result"
    }
   ],
   "source": [
    "task_view"
   ]
  },
  {
   "cell_type": "code",
   "execution_count": 11,
   "metadata": {},
   "outputs": [
    {
     "data": {
      "text/plain": [
       "'<table>\\n<thead>\\n<tr><th>Task                            </th><th>Urgency  </th><th>Due Date                 </th><th>Status     </th><th>Priority  </th></tr>\\n</thead>\\n<tbody>\\n<tr><td>Clearing out the cellar         </td><td>🔥 -2w2d </td><td>2023-11-16 17:10:00+01:00</td><td>In Progress</td><td>✶ Low     </td></tr>\\n<tr><td>Run first Marathon              </td><td>✅       </td><td>2023-11-24 17:10:00+01:00</td><td>Done       </td><td>✶ Low     </td></tr>\\n<tr><td>Pay yearly utility bills        </td><td>🔥 -5d   </td><td>2023-11-27 17:10:00+01:00</td><td>Blocked    </td><td>✹ High    </td></tr>\\n<tr><td>Call family                     </td><td>✅       </td><td>2023-12-01 17:10:00+01:00</td><td>Done       </td><td>✶ Low     </td></tr>\\n<tr><td>Complete project report for work</td><td>🔹 Today </td><td>2023-12-02 17:10:00+01:00</td><td>In Progress</td><td>✷ Medium  </td></tr>\\n<tr><td>Build tool with Ultimate Notion </td><td>🕐       </td><td>2023-12-03 17:10:00+01:00</td><td>In Progress</td><td>✶ Low     </td></tr>\\n<tr><td>Clean the house                 </td><td>🕐 4d    </td><td>2023-12-07 17:10:00+01:00</td><td>In Progress</td><td>✶ Low     </td></tr>\\n<tr><td>Read book about procastination  </td><td>🕐 2w1d  </td><td>2023-12-18 17:10:00+01:00</td><td>Backlog    </td><td>✷ Medium  </td></tr>\\n<tr><td>Plan vacation                   </td><td>🕐 3w2d  </td><td>2023-12-26 17:10:00+01:00</td><td>Backlog    </td><td>✹ High    </td></tr>\\n</tbody>\\n</table>'"
      ]
     },
     "execution_count": 11,
     "metadata": {},
     "output_type": "execute_result"
    }
   ],
   "source": [
    "task_view.as_table()"
   ]
  },
  {
   "cell_type": "code",
   "execution_count": 39,
   "metadata": {},
   "outputs": [],
   "source": [
    "task_view.default_limit = 3"
   ]
  },
  {
   "cell_type": "code",
   "execution_count": 51,
   "metadata": {},
   "outputs": [],
   "source": [
    "task_view = task_view.select('Task', 'Status').limit(3)"
   ]
  },
  {
   "cell_type": "code",
   "execution_count": 54,
   "metadata": {},
   "outputs": [
    {
     "name": "stdout",
     "output_type": "stream",
     "text": [
      "INFO:ultimate_notion.session.client:POST https://api.notion.com/v1/databases/b0cb6b70-e740-496d-9c81-8a298fa2d5e1/query\n",
      "INFO:httpx:HTTP Request: POST https://api.notion.com/v1/databases/b0cb6b70-e740-496d-9c81-8a298fa2d5e1/query \"HTTP/1.1 200 OK\"\n"
     ]
    },
    {
     "data": {
      "text/html": [
       "<table>\n",
       "<thead>\n",
       "<tr><th>Task                    </th><th>Status     </th></tr>\n",
       "</thead>\n",
       "<tbody>\n",
       "<tr><td>Clearing out the cellar </td><td>In Progress</td></tr>\n",
       "<tr><td>Run first Marathon      </td><td>Done       </td></tr>\n",
       "<tr><td>Pay yearly utility bills</td><td>Blocked    </td></tr>\n",
       "</tbody>\n",
       "</table>"
      ],
      "text/plain": [
       "<View: 'Task DB' at 0x1274be650>"
      ]
     },
     "execution_count": 54,
     "metadata": {},
     "output_type": "execute_result"
    }
   ],
   "source": [
    "task_view.reload()"
   ]
  },
  {
   "cell_type": "code",
   "execution_count": 64,
   "metadata": {},
   "outputs": [
    {
     "data": {
      "text/plain": [
       "[ultimate_notion.props.Select,\n",
       " ultimate_notion.props.Select,\n",
       " ultimate_notion.props.Select]"
      ]
     },
     "execution_count": 64,
     "metadata": {},
     "output_type": "execute_result"
    }
   ],
   "source": [
    "task_view.apply(lambda page: type(page.props.status))"
   ]
  },
  {
   "cell_type": "code",
   "execution_count": null,
   "metadata": {},
   "outputs": [],
   "source": []
  }
 ],
 "metadata": {
  "kernelspec": {
   "display_name": "Python 3 (ipykernel)",
   "language": "python",
   "name": "python3"
  },
  "language_info": {
   "codemirror_mode": {
    "name": "ipython",
    "version": 3
   },
   "file_extension": ".py",
   "mimetype": "text/x-python",
   "name": "python",
   "nbconvert_exporter": "python",
   "pygments_lexer": "ipython3",
   "version": "3.10.9"
  },
  "pycharm": {
   "stem_cell": {
    "cell_type": "raw",
    "metadata": {
     "collapsed": false
    },
    "source": []
   }
  }
 },
 "nbformat": 4,
 "nbformat_minor": 4
}
